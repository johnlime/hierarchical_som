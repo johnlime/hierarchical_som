{
 "cells": [
  {
   "cell_type": "code",
   "execution_count": 2,
   "metadata": {},
   "outputs": [],
   "source": [
    "import sys\n",
    "# sys.path"
   ]
  },
  {
   "cell_type": "code",
   "execution_count": 3,
   "metadata": {},
   "outputs": [],
   "source": [
    "import model\n",
    "import pickle\n",
    "%matplotlib inline\n",
    "import matplotlib.pyplot as plt"
   ]
  },
  {
   "cell_type": "markdown",
   "metadata": {},
   "source": [
    "# Cartpole"
   ]
  },
  {
   "cell_type": "markdown",
   "metadata": {},
   "source": [
    "## Worker Weight Visualization"
   ]
  },
  {
   "cell_type": "code",
   "execution_count": 22,
   "metadata": {},
   "outputs": [],
   "source": [
    "filehandler = open(\"../data/som.obj\", 'rb')\n",
    "model = pickle.load(filehandler)"
   ]
  },
  {
   "cell_type": "code",
   "execution_count": 23,
   "metadata": {},
   "outputs": [
    {
     "data": {
      "image/png": "[encoded data removed]",
      "text/plain": [
       "<Figure size 432x288 with 1 Axes>"
      ]
     },
     "metadata": {
      "needs_background": "light"
     },
     "output_type": "display_data"
    }
   ],
   "source": [
    "plt.scatter(model.w[:, 0], model.w[:, 1])\n",
    "plt.xlabel(\"Cart Position\")\n",
    "plt.ylabel(\"Cart Velocity\")\n",
    "plt.show()"
   ]
  },
  {
   "cell_type": "markdown",
   "metadata": {},
   "source": [
    "## Manager Trajectory Visualization"
   ]
  },
  {
   "cell_type": "code",
   "execution_count": 26,
   "metadata": {},
   "outputs": [],
   "source": [
    "manager_filehandler = open(\"../data/manager_som.obj\", 'rb')\n",
    "manager_model = pickle.load(manager_filehandler)"
   ]
  },
  {
   "cell_type": "code",
   "execution_count": 29,
   "metadata": {},
   "outputs": [
    {
     "name": "stdout",
     "output_type": "stream",
     "text": [
      "torch.Size([49, 22])\n",
      "tensor([[ 0.1055,  0.0844, -0.0054,  0.0065,  0.0293,  0.0005, -0.0158,  0.0293,\n",
      "          0.0090,  0.0357, -0.0150, -0.0138,  0.0071, -0.0181,  0.0085, -0.0172,\n",
      "          0.0212, -0.0120, -0.0067, -0.0101,  0.0375, -0.0190],\n",
      "        [ 0.1055,  0.1055,  0.0161,  0.0271, -0.0131, -0.0200,  0.0237,  0.0153,\n",
      "         -0.0155, -0.0108, -0.0161, -0.0292, -0.0103,  0.0077,  0.0009, -0.0264,\n",
      "          0.0188,  0.0091, -0.0305,  0.0134, -0.0446, -0.0267],\n",
      "        [ 0.1055,  0.1266, -0.0013,  0.0489,  0.0008,  0.0146, -0.0316, -0.0018,\n",
      "         -0.0126, -0.0322,  0.0154, -0.0045,  0.0276,  0.0162,  0.0252,  0.0118,\n",
      "          0.0132, -0.0175,  0.0101, -0.0093, -0.0429, -0.0054],\n",
      "        [ 0.1266,  0.0000,  0.0086,  0.0366,  0.0318, -0.0115,  0.0378,  0.0264,\n",
      "         -0.0295,  0.0041,  0.0211,  0.0319,  0.0247,  0.0133,  0.0315,  0.0298,\n",
      "          0.0047,  0.0146, -0.0056, -0.0226,  0.0180, -0.0061],\n",
      "        [ 0.1266,  0.0211, -0.0118,  0.0015,  0.0029,  0.0070, -0.0044,  0.0075,\n",
      "          0.0041, -0.0002,  0.0300,  0.0190,  1.0990,  1.0990,  1.0990,  1.0990,\n",
      "          1.0990,  1.0990,  1.0990,  1.0990,  1.0990,  1.0990],\n",
      "        [ 0.1266,  0.0422,  0.0465,  0.0069,  0.0169,  0.0268, -0.0126, -0.0264,\n",
      "          0.0084,  0.0156, -0.0192, -0.0077,  0.0044,  0.0028,  0.0050,  0.0098,\n",
      "         -0.0260, -0.0096, -0.0267,  0.0137, -0.0150, -0.0009],\n",
      "        [ 0.1266,  0.0633, -0.0244, -0.0021, -0.0267, -0.0210, -0.0193, -0.0301,\n",
      "         -0.0130,  0.0276,  0.0239, -0.0251, -0.0016,  0.0015,  0.0121,  0.0026,\n",
      "         -0.0126,  0.0003,  0.0137,  0.0228,  0.0016,  0.0399],\n",
      "        [ 0.1266,  0.0844, -0.0047, -0.0287, -0.0058, -0.0203,  0.0329, -0.0067,\n",
      "          0.0400,  0.0183, -0.0079, -0.0041, -0.0006,  0.0009, -0.0100, -0.0054,\n",
      "          0.0012,  0.0107, -0.0102,  0.0292,  0.0007, -0.0092],\n",
      "        [ 0.1266,  0.1055, -0.0107,  0.0067,  0.0168, -0.0323,  0.0335, -0.0197,\n",
      "          0.0007, -0.0009, -0.0149,  0.0118,  0.0085,  0.0111,  0.0432,  0.0279,\n",
      "          0.0030, -0.0054, -0.0219, -0.0509,  0.0071, -0.0090],\n",
      "        [ 0.1266,  0.1266,  0.0011, -0.0026,  0.0261, -0.0542,  0.0067, -0.0199,\n",
      "          0.0129,  0.0069,  0.0439, -0.0169,  0.0007,  0.0187, -0.0127,  0.0062,\n",
      "         -0.0131, -0.0066,  0.0055,  0.0174, -0.0335, -0.0439]])\n"
     ]
    }
   ],
   "source": [
    "print(manager_model.w.shape)\n",
    "print(manager_model.w[:10])"
   ]
  },
  {
   "cell_type": "code",
   "execution_count": null,
   "metadata": {},
   "outputs": [],
   "source": []
  }
 ],
 "metadata": {
  "kernelspec": {
   "display_name": "Python 3",
   "language": "python",
   "name": "python3"
  },
  "language_info": {
   "codemirror_mode": {
    "name": "ipython",
    "version": 3
   },
   "file_extension": ".py",
   "mimetype": "text/x-python",
   "name": "python",
   "nbconvert_exporter": "python",
   "pygments_lexer": "ipython3",
   "version": "3.5.6"
  }
 },
 "nbformat": 4,
 "nbformat_minor": 2
}
