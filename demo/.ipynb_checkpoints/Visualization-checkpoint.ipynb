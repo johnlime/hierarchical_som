{
 "cells": [
  {
   "cell_type": "code",
   "execution_count": 1,
   "metadata": {},
   "outputs": [],
   "source": [
    "import sys\n",
    "# sys.path"
   ]
  },
  {
   "cell_type": "code",
   "execution_count": 2,
   "metadata": {},
   "outputs": [],
   "source": [
    "import model\n",
    "import pickle\n",
    "%matplotlib inline\n",
    "import matplotlib.pyplot as plt"
   ]
  },
  {
   "cell_type": "markdown",
   "metadata": {},
   "source": [
    "# Cartpole"
   ]
  },
  {
   "cell_type": "markdown",
   "metadata": {},
   "source": [
    "## Worker Weight Visualization"
   ]
  },
  {
   "cell_type": "code",
   "execution_count": 3,
   "metadata": {},
   "outputs": [],
   "source": [
    "filehandler = open(\"../data/som.obj\", 'rb')\n",
    "model = pickle.load(filehandler)"
   ]
  },
  {
   "cell_type": "code",
   "execution_count": 4,
   "metadata": {},
   "outputs": [
    {
     "data": {
      "image/png": "[encoded data removed]",
      "text/plain": [
       "<Figure size 432x288 with 1 Axes>"
      ]
     },
     "metadata": {
      "needs_background": "light"
     },
     "output_type": "display_data"
    }
   ],
   "source": [
    "plt.scatter(model.w[:, 0], model.w[:, 1])\n",
    "plt.xlabel(\"Cart Position\")\n",
    "plt.ylabel(\"Cart Velocity\")\n",
    "plt.show()"
   ]
  },
  {
   "cell_type": "markdown",
   "metadata": {},
   "source": [
    "## Manager Trajectory Visualization"
   ]
  },
  {
   "cell_type": "code",
   "execution_count": 5,
   "metadata": {},
   "outputs": [
    {
     "name": "stdout",
     "output_type": "stream",
     "text": [
      "path exception\n"
     ]
    }
   ],
   "source": [
    "manager_filehandler = open(\"../data/manager_som.obj\", 'rb')\n",
    "manager_model = pickle.load(manager_filehandler)"
   ]
  },
  {
   "cell_type": "code",
   "execution_count": 6,
   "metadata": {},
   "outputs": [
    {
     "name": "stdout",
     "output_type": "stream",
     "text": [
      "torch.Size([100, 22])\n",
      "tensor([[ 0.0000,  0.0000, -0.0050,  0.0011,  0.0010,  0.0012, -0.0048,  0.0040,\n",
      "          0.0034, -0.0080,  0.0055,  0.0049,  1.0990,  1.0990,  1.0990,  1.0990,\n",
      "          1.0990,  1.0990,  1.0990,  1.0990,  1.0990,  1.0990],\n",
      "        [ 0.0000,  0.0114,  0.0091, -0.0035, -0.0260, -0.0060,  0.0084,  0.0010,\n",
      "          0.0081, -0.0160,  0.0041, -0.0164, -0.0089, -0.0216,  0.0084,  0.0207,\n",
      "         -0.0136,  0.0048, -0.0026, -0.0001,  0.0017, -0.0327],\n",
      "        [ 0.0000,  0.0229,  0.0168, -0.0034,  0.0048,  0.0023, -0.0038,  0.0119,\n",
      "         -0.0032, -0.0041, -0.0117,  0.0047,  1.0991,  1.1003,  1.0992,  1.0992,\n",
      "          1.1006,  1.0993,  1.1003,  1.0994,  1.1009,  1.0991],\n",
      "        [ 0.0000,  0.0343,  0.0055,  0.0131, -0.0026,  0.0241,  0.0118, -0.0140,\n",
      "          0.0113,  0.0116, -0.0060,  0.0025,  0.0018,  0.0198, -0.0002, -0.0002,\n",
      "         -0.0043, -0.0079, -0.0059,  0.0066,  0.0067, -0.0025],\n",
      "        [ 0.0000,  0.0458, -0.0070, -0.0078,  0.0091, -0.0196,  0.0027, -0.0143,\n",
      "          0.0050,  0.0009, -0.0007, -0.0237, -0.0006, -0.0013, -0.0166, -0.0216,\n",
      "         -0.0053, -0.0281, -0.0041, -0.0015, -0.0108, -0.0180],\n",
      "        [ 0.0000,  0.0572, -0.0288, -0.0177,  0.0019, -0.0029, -0.0088, -0.0073,\n",
      "          0.0031,  0.0141, -0.0123, -0.0075,  0.0081, -0.0159,  0.0105, -0.0017,\n",
      "          0.0059,  0.0094, -0.0082, -0.0118,  0.0074, -0.0288],\n",
      "        [ 0.0000,  0.0687,  0.0102, -0.0006, -0.0066,  0.0148, -0.0136,  0.0005,\n",
      "         -0.0025, -0.0119,  0.0012,  0.0053, -0.0021, -0.0074, -0.0100,  0.0012,\n",
      "         -0.0217, -0.0060,  0.0015,  0.0210,  0.0081, -0.0122],\n",
      "        [ 0.0000,  0.0801, -0.0076, -0.0225, -0.0027, -0.0071,  0.0026,  0.0092,\n",
      "         -0.0031, -0.0009,  0.0074,  0.0020,  0.0193,  0.0096,  0.0003, -0.0224,\n",
      "         -0.0176, -0.0062,  0.0027,  0.0028, -0.0224, -0.0076],\n",
      "        [ 0.0000,  0.0916, -0.0232, -0.0175,  0.0070, -0.0007, -0.0095, -0.0081,\n",
      "         -0.0042,  0.0054,  0.0175,  0.0136,  0.0024, -0.0084, -0.0067, -0.0016,\n",
      "         -0.0184, -0.0051,  0.0053, -0.0057,  0.0026,  0.0031],\n",
      "        [ 0.0000,  0.1030,  0.0098, -0.0002, -0.0064, -0.0216, -0.0005, -0.0009,\n",
      "         -0.0028, -0.0053,  0.0099, -0.0050,  1.0990,  1.0990,  1.0990,  1.0990,\n",
      "          1.0990,  1.0990,  1.0990,  1.0990,  1.0990,  1.0990]])\n"
     ]
    }
   ],
   "source": [
    "print(manager_model.w.shape)\n",
    "print(manager_model.w[:10])"
   ]
  },
  {
   "cell_type": "code",
   "execution_count": null,
   "metadata": {},
   "outputs": [],
   "source": []
  }
 ],
 "metadata": {
  "kernelspec": {
   "display_name": "Python 3",
   "language": "python",
   "name": "python3"
  },
  "language_info": {
   "codemirror_mode": {
    "name": "ipython",
    "version": 3
   },
   "file_extension": ".py",
   "mimetype": "text/x-python",
   "name": "python",
   "nbconvert_exporter": "python",
   "pygments_lexer": "ipython3",
   "version": "3.5.6"
  }
 },
 "nbformat": 4,
 "nbformat_minor": 2
}
