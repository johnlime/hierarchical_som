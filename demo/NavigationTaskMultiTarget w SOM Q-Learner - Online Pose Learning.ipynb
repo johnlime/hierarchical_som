{
 "cells": [
  {
   "cell_type": "markdown",
   "metadata": {},
   "source": [
    "# Navigation Task with Multiple Targets"
   ]
  },
  {
   "cell_type": "code",
   "execution_count": 1,
   "metadata": {},
   "outputs": [
    {
     "name": "stdout",
     "output_type": "stream",
     "text": [
      "path exception\n"
     ]
    }
   ],
   "source": [
    "import torch\n",
    "import numpy as np\n",
    "import math\n",
    "import random\n",
    "import matplotlib.pyplot as plt\n",
    "from model.kohonen_som import KohonenSOM\n",
    "from model.som_q_learner import SOMQLearnerAllNeighbor\n",
    "from custom_env.navigation_task import NavigationTaskMultiTarget # distance of 0.2\n",
    "import pickle\n",
    "%matplotlib inline"
   ]
  },
  {
   "cell_type": "markdown",
   "metadata": {},
   "source": [
    "## Training SOM Q-Learner (Selector)"
   ]
  },
  {
   "cell_type": "markdown",
   "metadata": {},
   "source": [
    "### Both the state space and the Q-table are updated using self organization"
   ]
  },
  {
   "cell_type": "code",
   "execution_count": 2,
   "metadata": {},
   "outputs": [
    {
     "name": "stderr",
     "output_type": "stream",
     "text": [
      "/Volumes/Macintosh HD - Data/Users/johnlime/Documents/MultipleApps/h_som/model/som_q_learner.py:32: UserWarning: To copy construct from a tensor, it is recommended to use sourceTensor.clone().detach() or sourceTensor.clone().detach().requires_grad_(True), rather than torch.tensor(sourceTensor).\n",
      "  x = torch.tensor(x)\n"
     ]
    },
    {
     "ename": "NameError",
     "evalue": "name 'X' is not defined",
     "output_type": "error",
     "traceback": [
      "\u001b[0;31m---------------------------------------------------------------------------\u001b[0m",
      "\u001b[0;31mNameError\u001b[0m                                 Traceback (most recent call last)",
      "\u001b[0;32m<ipython-input-2-538966e933c1>\u001b[0m in \u001b[0;36m<module>\u001b[0;34m\u001b[0m\n\u001b[1;32m     32\u001b[0m         \u001b[0mHow\u001b[0m \u001b[0mdo\u001b[0m \u001b[0myou\u001b[0m \u001b[0mtrain\u001b[0m \u001b[0mthe\u001b[0m \u001b[0mpose\u001b[0m \u001b[0mSOM\u001b[0m\u001b[0;31m?\u001b[0m\u001b[0;34m\u001b[0m\u001b[0;34m\u001b[0m\u001b[0m\n\u001b[1;32m     33\u001b[0m         \"\"\"\n\u001b[0;32m---> 34\u001b[0;31m         \u001b[0mpose_som\u001b[0m\u001b[0;34m.\u001b[0m\u001b[0mupdate\u001b[0m\u001b[0;34m(\u001b[0m\u001b[0mX\u001b[0m\u001b[0;34m,\u001b[0m \u001b[0mt\u001b[0m\u001b[0;34m,\u001b[0m \u001b[0;36m0\u001b[0m\u001b[0;34m)\u001b[0m\u001b[0;34m\u001b[0m\u001b[0;34m\u001b[0m\u001b[0m\n\u001b[0m\u001b[1;32m     35\u001b[0m \u001b[0;34m\u001b[0m\u001b[0m\n\u001b[1;32m     36\u001b[0m         selector.action_q_learning(\n",
      "\u001b[0;31mNameError\u001b[0m: name 'X' is not defined"
     ]
    }
   ],
   "source": [
    "maxitr = 10 ** 3\n",
    "maxtime = 100\n",
    "epsilon = 0.2\n",
    "torch.manual_seed(0)\n",
    "random.seed(0)\n",
    "\n",
    "pose_som = KohonenSOM(total_nodes=100, node_size=2, update_iterations=maxitr)\n",
    "selector = SOMQLearnerAllNeighbor(total_nodes=100, state_dim = 2, action_som = pose_som, update_iterations=maxitr)\n",
    "task = NavigationTaskMultiTarget()\n",
    "\n",
    "for epoch in range(maxitr):\n",
    "    # for visualization\n",
    "    total_return = 0\n",
    "    state_trajectory = []\n",
    "    obs = task.state()\n",
    "    \n",
    "    for t in range(maxtime):\n",
    "        obs = task.state()\n",
    "        \n",
    "        # epsilon greedy\n",
    "        if random.random() > epsilon:\n",
    "            pose_index = selector.get_action(obs) # deterministic\n",
    "\n",
    "        else:\n",
    "            pose_index = random.randrange(pose_som.total_nodes)\n",
    "        \n",
    "        # step forward\n",
    "        reward, next_obs = task.step(pose_som.w[pose_index])\n",
    "        \n",
    "        # online training\n",
    "        \"\"\"\n",
    "        How do you train the pose SOM?\n",
    "        \"\"\"\n",
    "        pose_som.update(X, t, 0)\n",
    "        \n",
    "        selector.action_q_learning(\n",
    "            current_state = obs,\n",
    "            next_state = next_obs,\n",
    "            action_index = pose_index,\n",
    "            reward = reward,\n",
    "            t = epoch)\n",
    "        \n",
    "        obs = next_obs\n",
    "        state_trajectory.append(np.array(obs))\n",
    "        total_return += (0.9 ** t) * reward\n",
    "        \n",
    "    if epoch % 100 == 99:\n",
    "        plt.plot(np.array(state_trajectory)[:, 0], np.array(state_trajectory)[:, 1], marker='.', linestyle='-', color='blue')\n",
    "        plt.plot(0.0, 0.0, marker='v', linestyle='None', color='orange')\n",
    "        \n",
    "        for i in range(task.all_goals.shape[0]):\n",
    "            plt.plot(np.array(task.all_goals[i])[0], np.array(task.all_goals[i])[1], marker='v', linestyle='None', color='red')\n",
    "        \n",
    "        plt.show()\n",
    "        print(task.goal_completed)\n",
    "        print(epoch, total_return)\n",
    "    \n",
    "    task.reset()\n",
    "    \n",
    "pose_som_filehandler = open(\"../data/selector_pose_ik/navigation_task_multi_target_online/pose_som.obj\", 'wb')\n",
    "pickle.dump(pose_som, pose_som_filehandler)\n",
    "    \n",
    "som_q_learner_all_neighbor_filehandler = open(\"../data/selector_pose_ik/navigation_task_multi_target_online/som_q_learner_all_neighbor.obj\", 'wb')\n",
    "pickle.dump(selector, som_q_learner_all_neighbor_filehandler)"
   ]
  },
  {
   "cell_type": "code",
   "execution_count": null,
   "metadata": {},
   "outputs": [],
   "source": [
    "# for visualization\n",
    "total_return = 0\n",
    "state_trajectory = []\n",
    "\n",
    "som_q_learner_all_neighbor_filehandler = open(\"../data/selector_pose_ik/navigation_task_multi_target_online/som_q_learner_all_neighbor.obj\", 'rb')\n",
    "som_q_learner_all_neighbor = pickle.load(som_q_learner_all_neighbor_filehandler)\n",
    "\n",
    "for t in range(maxtime): \n",
    "    obs = task.state()\n",
    "    pose_index = som_q_learner_all_neighbor.get_action(obs) # deterministic\n",
    "\n",
    "    # step forward\n",
    "    reward, next_obs = task.step(pose_som.w[pose_index])\n",
    "\n",
    "    obs = next_obs\n",
    "    state_trajectory.append(np.array(obs))\n",
    "    total_return += (0.9 ** t) * reward\n",
    "\n",
    "plt.plot(np.array(state_trajectory)[:, 0], np.array(state_trajectory)[:, 1], marker='.', linestyle='-', color='blue')\n",
    "plt.plot(0.0, 0.0, marker='v', linestyle='None', color='orange')\n",
    "\n",
    "for i in range(task.all_goals.shape[0]):\n",
    "    plt.plot(np.array(task.all_goals[i])[0], np.array(task.all_goals[i])[1], marker='v', linestyle='None', color='red')\n",
    "        \n",
    "plt.show()\n",
    "print(task.goal_completed)\n",
    "print(total_return)\n",
    "\n",
    "task.reset()"
   ]
  },
  {
   "cell_type": "markdown",
   "metadata": {},
   "source": [
    "## Pose SOM"
   ]
  },
  {
   "cell_type": "code",
   "execution_count": null,
   "metadata": {
    "scrolled": true
   },
   "outputs": [],
   "source": [
    "\"\"\"\n",
    "Visualization of Trained Pose Model\n",
    "\"\"\"\n",
    "plt.plot(x[:, 0].numpy(), x[:, 1].numpy(), marker='v', linestyle='None', color='orange')\n",
    "reshaped = pose_som.w.reshape(10, 10, 2)\n",
    "for v in range(10):\n",
    "    plt.plot(reshaped[:, v, 0].numpy(), reshaped[:, v, 1].numpy(), marker='None', linestyle='-', color='blue')\n",
    "    plt.plot(reshaped[v, :, 0].numpy(), reshaped[v, :, 1].numpy(), marker='None', linestyle='-', color='blue')\n",
    "plt.plot(pose_som.w[:, 0].numpy(), som.w[:, 1].numpy(), marker='o', color='blue')\n",
    "plt.show()\n",
    "pose_som.w"
   ]
  },
  {
   "cell_type": "markdown",
   "metadata": {},
   "source": [
    "## Visualization of the Selector and its associated SOMs"
   ]
  },
  {
   "cell_type": "code",
   "execution_count": null,
   "metadata": {},
   "outputs": [],
   "source": [
    "from IPython.display import Image\n",
    "\n",
    "def visualize_som(som, columns, labels = [\"\", \"\"], dim = 10, location = False):\n",
    "    if location:\n",
    "        reshaped_x = som.location[:, columns[0]].reshape(dim, dim)\n",
    "        reshaped_y = som.location[:, columns[1]].reshape(dim, dim)\n",
    "        for v in range(dim):\n",
    "            plt.plot(reshaped_x[:, v].numpy(), reshaped_y[:, v].numpy(), marker='None', linestyle='-', color='blue')\n",
    "            plt.plot(reshaped_x[v, :].numpy(), reshaped_y[v, :].numpy(), marker='None', linestyle='-', color='blue')\n",
    "        plt.plot(som.location[:, columns[0]].numpy(), som.location[:, columns[1]].numpy(), marker='o', color='blue')\n",
    "        plt.xlabel(labels[0])\n",
    "        plt.ylabel(labels[1])\n",
    "        plt.show()\n",
    "        \n",
    "    else:\n",
    "        reshaped_x = som.w[:, columns[0]].reshape(dim, dim)\n",
    "        reshaped_y = som.w[:, columns[1]].reshape(dim, dim)\n",
    "        for v in range(dim):\n",
    "            plt.plot(reshaped_x[:, v].numpy(), reshaped_y[:, v].numpy(), marker='None', linestyle='-', color='blue')\n",
    "            plt.plot(reshaped_x[v, :].numpy(), reshaped_y[v, :].numpy(), marker='None', linestyle='-', color='blue')\n",
    "        plt.plot(som.w[:, columns[0]].numpy(), som.w[:, columns[1]].numpy(), marker='o', color='blue')\n",
    "        plt.xlabel(labels[0])\n",
    "        plt.ylabel(labels[1])\n",
    "        plt.show()\n",
    "        \n",
    "task = NavigationTaskMultiTarget()"
   ]
  },
  {
   "cell_type": "code",
   "execution_count": null,
   "metadata": {},
   "outputs": [],
   "source": [
    "from torch.nn.functional import softmax\n",
    "\n",
    "def softmax_matrix(torch_matrix):\n",
    "    matrix_size = torch_matrix.shape\n",
    "    softmax_matrix = torch.zeros(matrix_size)\n",
    "    for i in range(matrix_size[0]):\n",
    "        softmax_matrix[i] = softmax(torch_matrix[i])\n",
    "    return softmax_matrix"
   ]
  },
  {
   "cell_type": "code",
   "execution_count": null,
   "metadata": {},
   "outputs": [],
   "source": [
    "pose_som_filehandler = open(\"../data/selector_pose_ik/navigation_task_multi_target_online/pose_som.obj\", 'rb')\n",
    "pose_som = pickle.load(pose_som_filehandler)\n",
    "\n",
    "som_q_learner_filehandler = open(\"../data/selector_pose_ik/navigation_task_multi_target_online/som_q_learner_all_neighbor.obj\", 'rb')\n",
    "som_q_learner = pickle.load(som_q_learner_filehandler)"
   ]
  },
  {
   "cell_type": "markdown",
   "metadata": {},
   "source": [
    "### Pose Selection per State Node"
   ]
  },
  {
   "cell_type": "code",
   "execution_count": null,
   "metadata": {},
   "outputs": [],
   "source": [
    "for i in range(100):\n",
    "    print(i)\n",
    "    rep_index = pose_som.select_winner(som_q_learner.w[i, :som_q_learner.state_dim])\n",
    "    plt.plot(pose_som.w[rep_index, 0], pose_som.w[rep_index, 1], marker='.', linestyle='None', color='blue')\n",
    "    \n",
    "    action_position = pose_som.w[torch.argmax(som_q_learner.w[i, 2:], dim=0)]\n",
    "    plt.plot(action_position[0], action_position[1], marker='v', linestyle='None', color='blue')\n",
    "    \n",
    "    plt.plot(0.0, 0.0, marker='v', linestyle='None', color='orange')\n",
    "    plt.plot(np.array(task.goal)[0], np.array(task.goal)[1], marker='v', linestyle='None', color='red')\n",
    "    plt.plot(0.5, 0.5, marker='v', linestyle='None', color='red')\n",
    "    plt.show()\n",
    "    \n",
    "    plt.imshow(som_q_learner.w[i, 2:].reshape(10, 10), cmap='hot', interpolation='nearest')\n",
    "    plt.colorbar()\n",
    "    plt.show()"
   ]
  },
  {
   "cell_type": "markdown",
   "metadata": {},
   "source": [
    "### Distribution of State Space within the SOM"
   ]
  },
  {
   "cell_type": "code",
   "execution_count": null,
   "metadata": {},
   "outputs": [],
   "source": [
    "visualize_som(pose_som, [0, 1], location = True)\n",
    "visualize_som(som_q_learner, [0, 1])"
   ]
  },
  {
   "cell_type": "markdown",
   "metadata": {},
   "source": [
    "### Poses used by the Selector"
   ]
  },
  {
   "cell_type": "code",
   "execution_count": null,
   "metadata": {},
   "outputs": [],
   "source": [
    "print(som_q_learner.w.shape)\n",
    "print(\"Softmax Matrix\")\n",
    "print(softmax_matrix(som_q_learner.w[:, 2:]))\n",
    "print(\"Action Matrix\")\n",
    "print(torch.argmax(softmax_matrix(som_q_learner.w[:, 2:]), dim=1).reshape(10, 10))"
   ]
  },
  {
   "cell_type": "markdown",
   "metadata": {},
   "source": [
    "### Which state nodes are more likely to use the specific actions?"
   ]
  },
  {
   "cell_type": "code",
   "execution_count": null,
   "metadata": {},
   "outputs": [],
   "source": [
    "for i in [0, 10, 20, 30, 61]: #range(selector.w.shape[1]):\n",
    "    print(\"Action Index: \", i)\n",
    "    plt.imshow(softmax_matrix(som_q_learner.w[:, 2:])[:, i].reshape(10, 10), cmap='hot', interpolation='nearest')\n",
    "    plt.colorbar()\n",
    "    plt.show()"
   ]
  },
  {
   "cell_type": "code",
   "execution_count": null,
   "metadata": {},
   "outputs": [],
   "source": [
    "torch.argmax(softmax_matrix(som_q_learner.w[:, 2:]), dim=1)"
   ]
  },
  {
   "cell_type": "code",
   "execution_count": null,
   "metadata": {},
   "outputs": [],
   "source": [
    "pose_usage = torch.unique(torch.argmax(softmax_matrix(som_q_learner.w[:, 2:]), dim=1), return_counts = True)\n",
    "print(\"Pose in Use\", pose_usage[0])\n",
    "print(\"Frequency of Pose\", pose_usage[1])"
   ]
  },
  {
   "cell_type": "code",
   "execution_count": null,
   "metadata": {},
   "outputs": [],
   "source": [
    "from torch.nn.functional import softmax"
   ]
  },
  {
   "cell_type": "code",
   "execution_count": null,
   "metadata": {},
   "outputs": [],
   "source": [
    "pose_heat_map = torch.zeros(100)\n",
    "\n",
    "for p, i in zip(pose_usage[0], range(len(pose_usage[0]))):\n",
    "    pose_heat_map[p] = pose_usage[1][i]\n",
    "    \n",
    "print(pose_heat_map)\n",
    "pose_heat_map = softmax(pose_heat_map.float())\n",
    "                \n",
    "print(\"Pose Usage\")\n",
    "plt.imshow(pose_heat_map.reshape(10, 10), cmap='hot', interpolation='nearest')\n",
    "plt.colorbar()\n",
    "plt.show()"
   ]
  },
  {
   "cell_type": "code",
   "execution_count": null,
   "metadata": {},
   "outputs": [],
   "source": [
    "from custom_env.navigation_task import NavigationTaskMultiTarget\n",
    "\n",
    "baseline_maxtime = 100\n",
    "baseline_return = 0\n",
    "baseline_gamma = 0.9\n",
    "task = NavigationTaskMultiTarget()\n",
    "\n",
    "for t in range(baseline_maxtime):\n",
    "    reward, _ = task.step(task.goal)\n",
    "    baseline_return += (baseline_gamma ** t) * reward\n",
    "    \n",
    "task.reset()\n",
    "print(baseline_return)"
   ]
  },
  {
   "cell_type": "code",
   "execution_count": null,
   "metadata": {},
   "outputs": [],
   "source": []
  }
 ],
 "metadata": {
  "kernelspec": {
   "display_name": "Python 3",
   "language": "python",
   "name": "python3"
  },
  "language_info": {
   "codemirror_mode": {
    "name": "ipython",
    "version": 3
   },
   "file_extension": ".py",
   "mimetype": "text/x-python",
   "name": "python",
   "nbconvert_exporter": "python",
   "pygments_lexer": "ipython3",
   "version": "3.8.5"
  }
 },
 "nbformat": 4,
 "nbformat_minor": 2
}
