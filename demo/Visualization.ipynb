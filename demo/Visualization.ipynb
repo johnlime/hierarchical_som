{
 "cells": [
  {
   "cell_type": "code",
   "execution_count": 1,
   "metadata": {},
   "outputs": [],
   "source": [
    "import sys\n",
    "# sys.path"
   ]
  },
  {
   "cell_type": "code",
   "execution_count": 2,
   "metadata": {},
   "outputs": [],
   "source": [
    "import model\n",
    "import pickle\n",
    "%matplotlib inline\n",
    "import matplotlib.pyplot as plt"
   ]
  },
  {
   "cell_type": "markdown",
   "metadata": {},
   "source": [
    "# Cartpole"
   ]
  },
  {
   "cell_type": "markdown",
   "metadata": {},
   "source": [
    "## Worker Weight Visualization"
   ]
  },
  {
   "cell_type": "code",
   "execution_count": 3,
   "metadata": {},
   "outputs": [],
   "source": [
    "filehandler = open(\"../data/som.obj\", 'rb')\n",
    "model = pickle.load(filehandler)"
   ]
  },
  {
   "cell_type": "code",
   "execution_count": 4,
   "metadata": {},
   "outputs": [
    {
     "data": {
      "image/png": "[encoded data removed]",
      "text/plain": [
       "<Figure size 432x288 with 1 Axes>"
      ]
     },
     "metadata": {
      "needs_background": "light"
     },
     "output_type": "display_data"
    }
   ],
   "source": [
    "plt.scatter(model.w[:, 0], model.w[:, 1])\n",
    "plt.xlabel(\"Cart Position\")\n",
    "plt.ylabel(\"Cart Velocity\")\n",
    "plt.show()"
   ]
  },
  {
   "cell_type": "markdown",
   "metadata": {},
   "source": [
    "## Manager Trajectory Visualization"
   ]
  },
  {
   "cell_type": "code",
   "execution_count": 5,
   "metadata": {},
   "outputs": [
    {
     "name": "stdout",
     "output_type": "stream",
     "text": [
      "path exception\n"
     ]
    }
   ],
   "source": [
    "manager_filehandler = open(\"../data/manager_som.obj\", 'rb')\n",
    "manager_model = pickle.load(manager_filehandler)"
   ]
  },
  {
   "cell_type": "code",
   "execution_count": 6,
   "metadata": {},
   "outputs": [
    {
     "name": "stdout",
     "output_type": "stream",
     "text": [
      "torch.Size([100, 22])\n",
      "tensor([[ 4.7913e-05,  9.1940e-06,  4.8832e-04,  3.1643e-20,  1.8400e-01,\n",
      "          8.1480e-01,  3.7165e-06,  4.6201e-04,  8.0011e-06,  1.7415e-04,\n",
      "         -2.3041e-02,  7.3665e-01,  1.1660e+00,  1.0497e+00,  1.0281e+00,\n",
      "          1.0851e+00,  1.0511e-02, -1.4701e-02,  1.1434e+00,  1.1866e+00,\n",
      "          2.5113e-02,  1.1333e+00],\n",
      "        [ 1.8686e-08,  1.5221e-09,  2.5449e-09,  3.6697e-07,  1.0000e+00,\n",
      "          2.4591e-07,  7.9157e-08,  6.8657e-07,  1.9803e-09,  9.6416e-13,\n",
      "          8.0941e-03,  3.7138e-01,  1.0990e+00,  1.0990e+00,  1.0990e+00,\n",
      "          1.0990e+00,  1.0990e+00,  1.0990e+00,  1.0990e+00,  1.0990e+00,\n",
      "          1.0990e+00,  1.0990e+00],\n",
      "        [ 6.0253e-06,  1.5276e-01,  2.9796e-02,  5.9508e-12,  2.4854e-03,\n",
      "          3.7048e-20,  3.4354e-01,  2.8592e-04,  2.2645e-01,  2.4467e-01,\n",
      "          7.5303e-02,  6.3843e-01,  1.1302e+00,  1.1367e+00,  1.1366e+00,\n",
      "          1.1373e+00, -2.3025e-02,  1.9964e-03,  1.1376e+00, -5.0667e-03,\n",
      "          7.2904e-03,  1.1366e+00],\n",
      "        [ 9.1229e-07,  9.9993e-01,  2.5870e-06,  9.0101e-13,  1.6168e-05,\n",
      "          5.6094e-21,  4.4207e-08,  4.3291e-05,  6.7474e-06,  4.5218e-06,\n",
      "          6.0371e-02,  5.2176e-01,  1.0990e+00,  1.0990e+00,  1.0990e+00,\n",
      "          1.0990e+00,  1.0990e+00,  1.0990e+00,  1.0990e+00,  1.0990e+00,\n",
      "          1.0990e+00,  1.0990e+00],\n",
      "        [ 2.8167e-01,  3.1926e-01,  3.2422e-03,  1.8930e-06,  9.3159e-06,\n",
      "          1.1785e-14,  9.2878e-02,  5.2448e-05,  4.3012e-02,  2.5988e-01,\n",
      "         -2.3033e-02, -2.0848e-01, -2.0542e-02,  2.8457e-03, -1.4780e-02,\n",
      "         -4.2560e-03, -1.1688e-02, -8.2537e-03, -1.6290e-02,  6.6534e-03,\n",
      "          2.3562e-02,  1.0656e-02],\n",
      "        [ 1.8598e-02,  4.6252e-01,  3.1616e-02,  1.5570e-03,  4.7733e-04,\n",
      "          1.7192e-24,  8.7433e-05,  3.8638e-03,  2.5628e-01,  2.2500e-01,\n",
      "          1.1826e-01,  2.9807e-01, -4.4028e-03,  8.2768e-03,  8.0504e-03,\n",
      "          7.1376e-04,  1.1504e+00,  1.4710e-02,  1.1530e+00,  1.1527e+00,\n",
      "          1.1522e+00,  1.1504e+00],\n",
      "        [ 2.6118e-01,  1.0037e-02,  6.3742e-01,  2.1867e-02,  6.7036e-03,\n",
      "          2.4002e-23,  1.2279e-03,  5.4262e-02,  1.4397e-04,  7.1613e-03,\n",
      "          9.7318e-02,  5.5803e-01,  1.0997e+00,  1.1077e+00,  1.1015e+00,\n",
      "          1.1015e+00,  1.0997e+00,  1.1005e+00,  1.0997e+00,  1.0997e+00,\n",
      "          1.0998e+00,  1.0926e+00],\n",
      "        [ 7.7015e-02,  1.0640e-04,  1.8156e-01,  5.1138e-02,  2.5166e-01,\n",
      "          3.2443e-10,  1.5269e-02,  1.1429e-04,  1.9322e-03,  4.2121e-01,\n",
      "          1.0718e-01,  4.6423e-01,  1.1013e+00,  1.1143e+00,  1.1012e+00,\n",
      "          1.1000e+00,  1.1143e+00,  1.1000e+00,  1.1000e+00,  1.1000e+00,\n",
      "          1.1000e+00,  1.1143e+00],\n",
      "        [ 1.3093e-06,  4.6061e-06,  3.2552e-04,  1.6630e-07,  1.9869e-06,\n",
      "          9.9910e-01,  1.1268e-05,  5.1498e-06,  8.8888e-05,  4.6452e-04,\n",
      "         -5.1271e-02, -7.3930e-01,  1.1000e+00,  1.1000e+00,  1.1000e+00,\n",
      "          9.9503e-01,  1.1000e+00,  1.1000e+00,  1.1000e+00,  1.1000e+00,\n",
      "          1.1000e+00,  1.1000e+00],\n",
      "        [ 8.9871e-02,  3.1616e-01,  4.2240e-03,  1.1415e-02,  1.3638e-01,\n",
      "          8.6790e-07,  1.9098e-04,  3.5347e-01,  6.5085e-11,  8.8288e-02,\n",
      "          8.5702e-02,  5.2549e-01,  8.8687e-03, -2.2919e-02, -9.6175e-03,\n",
      "         -1.9285e-02, -9.5166e-03,  8.1068e-03,  3.1478e-03,  4.0776e-03,\n",
      "         -7.6991e-03, -2.8900e-03]])\n"
     ]
    }
   ],
   "source": [
    "print(manager_model.w.shape)\n",
    "print(manager_model.w[:10])"
   ]
  },
  {
   "cell_type": "markdown",
   "metadata": {},
   "source": [
    "# Cartpole v2"
   ]
  },
  {
   "cell_type": "markdown",
   "metadata": {},
   "source": [
    "## Worker Weight Visualization"
   ]
  },
  {
   "cell_type": "code",
   "execution_count": 7,
   "metadata": {},
   "outputs": [
    {
     "data": {
      "image/png": "[encoded data removed]",
      "text/plain": [
       "<Figure size 432x288 with 1 Axes>"
      ]
     },
     "metadata": {
      "needs_background": "light"
     },
     "output_type": "display_data"
    }
   ],
   "source": [
    "filehandler = open(\"../data/som_pos.obj\", 'rb')\n",
    "pos_model = pickle.load(filehandler)\n",
    "plt.scatter(pos_model.w[:, 0], pos_model.w[:, 1])\n",
    "plt.xlabel(\"Cart Position\")\n",
    "plt.ylabel(\"Cart Velocity\")\n",
    "plt.show()"
   ]
  },
  {
   "cell_type": "code",
   "execution_count": 8,
   "metadata": {},
   "outputs": [
    {
     "data": {
      "image/png": "[encoded data removed]",
      "text/plain": [
       "<Figure size 432x288 with 1 Axes>"
      ]
     },
     "metadata": {
      "needs_background": "light"
     },
     "output_type": "display_data"
    }
   ],
   "source": [
    "filehandler = open(\"../data/som_ang.obj\", 'rb')\n",
    "ang_model = pickle.load(filehandler)\n",
    "plt.scatter(ang_model.w[:, 0], ang_model.w[:, 1])\n",
    "plt.xlabel(\"Cart Angle\")\n",
    "plt.ylabel(\"Cart Angular Velocity\")\n",
    "plt.show()"
   ]
  },
  {
   "cell_type": "markdown",
   "metadata": {},
   "source": [
    "## Manager Trajectory Visualization"
   ]
  },
  {
   "cell_type": "code",
   "execution_count": 9,
   "metadata": {},
   "outputs": [
    {
     "name": "stdout",
     "output_type": "stream",
     "text": [
      "torch.Size([100, 22])\n",
      "tensor([[ 4.7913e-05,  9.1940e-06,  4.8832e-04,  3.1643e-20,  1.8400e-01,\n",
      "          8.1480e-01,  3.7165e-06,  4.6201e-04,  8.0011e-06,  1.7415e-04,\n",
      "         -2.3041e-02,  7.3665e-01,  1.1660e+00,  1.0497e+00,  1.0281e+00,\n",
      "          1.0851e+00,  1.0511e-02, -1.4701e-02,  1.1434e+00,  1.1866e+00,\n",
      "          2.5113e-02,  1.1333e+00],\n",
      "        [ 1.8686e-08,  1.5221e-09,  2.5449e-09,  3.6697e-07,  1.0000e+00,\n",
      "          2.4591e-07,  7.9157e-08,  6.8657e-07,  1.9803e-09,  9.6416e-13,\n",
      "          8.0941e-03,  3.7138e-01,  1.0990e+00,  1.0990e+00,  1.0990e+00,\n",
      "          1.0990e+00,  1.0990e+00,  1.0990e+00,  1.0990e+00,  1.0990e+00,\n",
      "          1.0990e+00,  1.0990e+00],\n",
      "        [ 6.0253e-06,  1.5276e-01,  2.9796e-02,  5.9508e-12,  2.4854e-03,\n",
      "          3.7048e-20,  3.4354e-01,  2.8592e-04,  2.2645e-01,  2.4467e-01,\n",
      "          7.5303e-02,  6.3843e-01,  1.1302e+00,  1.1367e+00,  1.1366e+00,\n",
      "          1.1373e+00, -2.3025e-02,  1.9964e-03,  1.1376e+00, -5.0667e-03,\n",
      "          7.2904e-03,  1.1366e+00],\n",
      "        [ 9.1229e-07,  9.9993e-01,  2.5870e-06,  9.0101e-13,  1.6168e-05,\n",
      "          5.6094e-21,  4.4207e-08,  4.3291e-05,  6.7474e-06,  4.5218e-06,\n",
      "          6.0371e-02,  5.2176e-01,  1.0990e+00,  1.0990e+00,  1.0990e+00,\n",
      "          1.0990e+00,  1.0990e+00,  1.0990e+00,  1.0990e+00,  1.0990e+00,\n",
      "          1.0990e+00,  1.0990e+00],\n",
      "        [ 2.8167e-01,  3.1926e-01,  3.2422e-03,  1.8930e-06,  9.3159e-06,\n",
      "          1.1785e-14,  9.2878e-02,  5.2448e-05,  4.3012e-02,  2.5988e-01,\n",
      "         -2.3033e-02, -2.0848e-01, -2.0542e-02,  2.8457e-03, -1.4780e-02,\n",
      "         -4.2560e-03, -1.1688e-02, -8.2537e-03, -1.6290e-02,  6.6534e-03,\n",
      "          2.3562e-02,  1.0656e-02],\n",
      "        [ 1.8598e-02,  4.6252e-01,  3.1616e-02,  1.5570e-03,  4.7733e-04,\n",
      "          1.7192e-24,  8.7433e-05,  3.8638e-03,  2.5628e-01,  2.2500e-01,\n",
      "          1.1826e-01,  2.9807e-01, -4.4028e-03,  8.2768e-03,  8.0504e-03,\n",
      "          7.1376e-04,  1.1504e+00,  1.4710e-02,  1.1530e+00,  1.1527e+00,\n",
      "          1.1522e+00,  1.1504e+00],\n",
      "        [ 2.6118e-01,  1.0037e-02,  6.3742e-01,  2.1867e-02,  6.7036e-03,\n",
      "          2.4002e-23,  1.2279e-03,  5.4262e-02,  1.4397e-04,  7.1613e-03,\n",
      "          9.7318e-02,  5.5803e-01,  1.0997e+00,  1.1077e+00,  1.1015e+00,\n",
      "          1.1015e+00,  1.0997e+00,  1.1005e+00,  1.0997e+00,  1.0997e+00,\n",
      "          1.0998e+00,  1.0926e+00],\n",
      "        [ 7.7015e-02,  1.0640e-04,  1.8156e-01,  5.1138e-02,  2.5166e-01,\n",
      "          3.2443e-10,  1.5269e-02,  1.1429e-04,  1.9322e-03,  4.2121e-01,\n",
      "          1.0718e-01,  4.6423e-01,  1.1013e+00,  1.1143e+00,  1.1012e+00,\n",
      "          1.1000e+00,  1.1143e+00,  1.1000e+00,  1.1000e+00,  1.1000e+00,\n",
      "          1.1000e+00,  1.1143e+00],\n",
      "        [ 1.3093e-06,  4.6061e-06,  3.2552e-04,  1.6630e-07,  1.9869e-06,\n",
      "          9.9910e-01,  1.1268e-05,  5.1498e-06,  8.8888e-05,  4.6452e-04,\n",
      "         -5.1271e-02, -7.3930e-01,  1.1000e+00,  1.1000e+00,  1.1000e+00,\n",
      "          9.9503e-01,  1.1000e+00,  1.1000e+00,  1.1000e+00,  1.1000e+00,\n",
      "          1.1000e+00,  1.1000e+00],\n",
      "        [ 8.9871e-02,  3.1616e-01,  4.2240e-03,  1.1415e-02,  1.3638e-01,\n",
      "          8.6790e-07,  1.9098e-04,  3.5347e-01,  6.5085e-11,  8.8288e-02,\n",
      "          8.5702e-02,  5.2549e-01,  8.8687e-03, -2.2919e-02, -9.6175e-03,\n",
      "         -1.9285e-02, -9.5166e-03,  8.1068e-03,  3.1478e-03,  4.0776e-03,\n",
      "         -7.6991e-03, -2.8900e-03]])\n"
     ]
    }
   ],
   "source": [
    "manager_filehandler = open(\"../data/manager_som.obj\", 'rb')\n",
    "manager_model = pickle.load(manager_filehandler)\n",
    "print(manager_model.w.shape)\n",
    "print(manager_model.w[:10])"
   ]
  }
 ],
 "metadata": {
  "kernelspec": {
   "display_name": "Python 3",
   "language": "python",
   "name": "python3"
  },
  "language_info": {
   "codemirror_mode": {
    "name": "ipython",
    "version": 3
   },
   "file_extension": ".py",
   "mimetype": "text/x-python",
   "name": "python",
   "nbconvert_exporter": "python",
   "pygments_lexer": "ipython3",
   "version": "3.5.6"
  }
 },
 "nbformat": 4,
 "nbformat_minor": 2
}
